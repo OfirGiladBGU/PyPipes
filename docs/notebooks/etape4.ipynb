{
 "cells": [
  {
   "cell_type": "markdown",
   "metadata": {},
   "source": [
    "## 3D pipelines reconstruction project - Conception Détaillé"
   ]
  },
  {
   "cell_type": "markdown",
   "metadata": {},
   "source": [
    "#### ------------------------------------------------------------------TODO---------------------------------------------------------------------------------------------\n",
    "* Compléter les entêtes des fonctions (headers)\n",
    "* Compléter les classes\n",
    "* Compléter les diagrammes de classe et autres diagrammes\n",
    "* Vérifier la cohérence entrées/sorties -> Test\n",
    "* Construire l'environnement sur pycharm (Dockerizer ?)\n",
    "* Construire le projet, les fichier, leurs hiérarchie, le main et makefile\n",
    "* \n",
    "* recherche de fonctionnalités existantes, de code et integrer les headers -> test\n",
    "* tests unitaires sur les fonctionnalités \n",
    "* \n",
    "* Compléter document\n",
    "#### -------------------------------------------------------------------------------------------------------------------------------------------------------------------------"
   ]
  },
  {
   "cell_type": "markdown",
   "metadata": {},
   "source": [
    "### Étape 4 : Affinement des résultats"
   ]
  },
  {
   "cell_type": "markdown",
   "metadata": {},
   "source": [
    "#### Distance relative entre modèles"
   ]
  },
  {
   "cell_type": "markdown",
   "metadata": {},
   "source": [
    "La solution permet de calculer une distance relative entre deux graphes de pipeline, prenant en compte le rayon (normalisé) et la direction des éléments"
   ]
  },
  {
   "cell_type": "code",
   "execution_count": null,
   "metadata": {},
   "outputs": [],
   "source": [
    "def fonction(param): \n",
    "    \"\"\"\n",
    "    Return the ... \n",
    "    \n",
    "    In  : \n",
    "    out : \n",
    "    \"\"\"\n",
    "    result = 0\n",
    "\n",
    "    return result"
   ]
  },
  {
   "cell_type": "markdown",
   "metadata": {},
   "source": [
    "#### Mesures de Recall et Accuracy"
   ]
  },
  {
   "cell_type": "markdown",
   "metadata": {},
   "source": [
    "La solution permet de déterminer, à partir d’un graphe prédit et d’un graphe de réalité terrain, la précision et le recall de la prédiction"
   ]
  },
  {
   "cell_type": "code",
   "execution_count": null,
   "metadata": {},
   "outputs": [],
   "source": [
    "def fonction(param): \n",
    "    \"\"\"\n",
    "    Return the ... \n",
    "    \n",
    "    In  : \n",
    "    out : \n",
    "    \"\"\"\n",
    "    result = 0\n",
    "\n",
    "    return result"
   ]
  },
  {
   "cell_type": "markdown",
   "metadata": {},
   "source": [
    "#### Raffinement d’un modèle 3D par ICP"
   ]
  },
  {
   "cell_type": "markdown",
   "metadata": {},
   "source": [
    "En utilisant un nuage de points, et le modèle 3D du pipeline reconstitué associé, la solution applique un algorithme de type Iterative Closest Point afin de minimiser les différences entre les données et la reconstruction, et retourne le résultat."
   ]
  },
  {
   "cell_type": "code",
   "execution_count": null,
   "metadata": {},
   "outputs": [],
   "source": [
    "def fonction(param): \n",
    "    \"\"\"\n",
    "    Return the ... \n",
    "    \n",
    "    In  : \n",
    "    out : \n",
    "    \"\"\"\n",
    "    result = 0\n",
    "\n",
    "    return result"
   ]
  }
 ],
 "metadata": {
  "kernelspec": {
   "display_name": "Python 3",
   "language": "python",
   "name": "python3"
  },
  "language_info": {
   "codemirror_mode": {
    "name": "ipython",
    "version": 3
   },
   "file_extension": ".py",
   "mimetype": "text/x-python",
   "name": "python",
   "nbconvert_exporter": "python",
   "pygments_lexer": "ipython3",
   "version": "3.8.10"
  }
 },
 "nbformat": 4,
 "nbformat_minor": 4
}
