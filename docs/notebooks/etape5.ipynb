{
 "cells": [
  {
   "cell_type": "markdown",
   "metadata": {},
   "source": [
    "## 3D pipelines reconstruction project - Conception Détaillé"
   ]
  },
  {
   "cell_type": "markdown",
   "metadata": {},
   "source": [
    "#### ------------------------------------------------------------------TODO---------------------------------------------------------------------------------------------\n",
    "* Compléter les entêtes des fonctions (headers)\n",
    "* Compléter les classes\n",
    "* Compléter les diagrammes de classe et autres diagrammes\n",
    "* Vérifier la cohérence entrées/sorties -> Test\n",
    "* Construire l'environnement sur pycharm (Dockerizer ?)\n",
    "* Construire le projet, les fichier, leurs hiérarchie, le main et makefile\n",
    "* \n",
    "* recherche de fonctionnalités existantes, de code et integrer les headers -> test\n",
    "* tests unitaires sur les fonctionnalités \n",
    "* \n",
    "* Compléter document\n",
    "#### -------------------------------------------------------------------------------------------------------------------------------------------------------------------------"
   ]
  },
  {
   "cell_type": "markdown",
   "metadata": {},
   "source": [
    "### Étape 5 : Exportation du modèle"
   ]
  },
  {
   "cell_type": "markdown",
   "metadata": {},
   "source": [
    "#### Export du modèle 3D au format .obj"
   ]
  },
  {
   "cell_type": "markdown",
   "metadata": {},
   "source": [
    "Permet d’exporter le modèle 3D au format .obj"
   ]
  },
  {
   "cell_type": "code",
   "execution_count": null,
   "metadata": {},
   "outputs": [],
   "source": [
    "def fonction(param): \n",
    "    \"\"\"\n",
    "    Return the ... \n",
    "    \n",
    "    In  : \n",
    "    out : \n",
    "    \"\"\"\n",
    "    result = 0\n",
    "\n",
    "    return result"
   ]
  },
  {
   "cell_type": "markdown",
   "metadata": {},
   "source": [
    "#### Export du modèle 3D au format .step"
   ]
  },
  {
   "cell_type": "markdown",
   "metadata": {},
   "source": [
    "Permet d’exporter le modèle 3D au format .step"
   ]
  },
  {
   "cell_type": "code",
   "execution_count": null,
   "metadata": {},
   "outputs": [],
   "source": [
    "def fonction(param): \n",
    "    \"\"\"\n",
    "    Return the ... \n",
    "    \n",
    "    In  : \n",
    "    out : \n",
    "    \"\"\"\n",
    "    result = 0\n",
    "\n",
    "    return result"
   ]
  },
  {
   "cell_type": "markdown",
   "metadata": {},
   "source": [
    "#### Reconstruction du modèle 3D"
   ]
  },
  {
   "cell_type": "markdown",
   "metadata": {},
   "source": [
    "transformer un graphe de pipeline de référence tel que décrit dans CO-001 en un modèle 3D. Le modèle sera sauvegardé au format .obj"
   ]
  },
  {
   "cell_type": "code",
   "execution_count": null,
   "metadata": {},
   "outputs": [],
   "source": [
    "def fonction(param): \n",
    "    \"\"\"\n",
    "    Return the ... \n",
    "    \n",
    "    In  : \n",
    "    out : \n",
    "    \"\"\"\n",
    "    result = 0\n",
    "\n",
    "    return result"
   ]
  },
  {
   "cell_type": "markdown",
   "metadata": {},
   "source": [
    "### Pipeline complète de base"
   ]
  },
  {
   "cell_type": "markdown",
   "metadata": {},
   "source": [
    "L’utilisateur est capable de démarrer la chaîne de traitement DeepPipes à l’aide d’un unique point d’entrée, en utilisant comme input un nuage de points 3D correspondant à un réseau de pipeline."
   ]
  },
  {
   "cell_type": "code",
   "execution_count": null,
   "metadata": {},
   "outputs": [],
   "source": [
    "def fonction(param): \n",
    "    \"\"\"\n",
    "    Return the ... \n",
    "    \n",
    "    In  : \n",
    "    out : \n",
    "    \"\"\"\n",
    "    result = 0\n",
    "\n",
    "    return result"
   ]
  }
 ],
 "metadata": {
  "kernelspec": {
   "display_name": "Python 3",
   "language": "python",
   "name": "python3"
  },
  "language_info": {
   "codemirror_mode": {
    "name": "ipython",
    "version": 3
   },
   "file_extension": ".py",
   "mimetype": "text/x-python",
   "name": "python",
   "nbconvert_exporter": "python",
   "pygments_lexer": "ipython3",
   "version": "3.8.10"
  }
 },
 "nbformat": 4,
 "nbformat_minor": 4
}
